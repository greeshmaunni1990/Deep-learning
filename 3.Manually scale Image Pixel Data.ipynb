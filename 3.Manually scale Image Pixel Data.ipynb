{
 "cells": [
  {
   "cell_type": "code",
   "execution_count": 1,
   "metadata": {},
   "outputs": [],
   "source": [
    "from PIL import Image"
   ]
  },
  {
   "cell_type": "code",
   "execution_count": 2,
   "metadata": {},
   "outputs": [
    {
     "name": "stdout",
     "output_type": "stream",
     "text": [
      "JPEG\n",
      "RGB\n",
      "(1200, 757)\n"
     ]
    }
   ],
   "source": [
    "image = Image.open('sydney_bridge.jpg')\n",
    "\n",
    "print(image.format)\n",
    "print(image.mode)\n",
    "print(image.size)\n",
    "image.show()"
   ]
  },
  {
   "cell_type": "markdown",
   "metadata": {},
   "source": [
    "## Normalise pixel values                       "
   ]
  },
  {
   "cell_type": "code",
   "execution_count": 13,
   "metadata": {},
   "outputs": [
    {
     "name": "stdout",
     "output_type": "stream",
     "text": [
      "('pixel data type', dtype('uint8'))\n",
      "('min', 0)\n",
      "('max', 255)\n",
      "('normalised min', 0.0)\n",
      "('normalised max', 1.0)\n"
     ]
    }
   ],
   "source": [
    "from numpy import asarray\n",
    "\n",
    "# load image\n",
    "image = Image.open('sydney_bridge.jpg')\n",
    "\n",
    "# convert image to array\n",
    "pixels = asarray(image)\n",
    "\n",
    "print(\"pixel data type\", pixels.dtype)\n",
    "print(\"min\", pixels.min())\n",
    "print('max', pixels.max())\n",
    "\n",
    "# converting pixels to float\n",
    "pixels = pixels.astype('float32')\n",
    "\n",
    "# normalissing in the range 0-1\n",
    "pixels /= 255.0\n",
    "\n",
    "print('normalised min', pixels.min())\n",
    "print('normalised max', pixels.max())"
   ]
  },
  {
   "cell_type": "markdown",
   "metadata": {},
   "source": [
    "## Centering pixel values"
   ]
  },
  {
   "cell_type": "code",
   "execution_count": 20,
   "metadata": {},
   "outputs": [
    {
     "name": "stdout",
     "output_type": "stream",
     "text": [
      "('global mean', 154.88742)\n",
      "('min', 0.0)\n",
      "('max', 255.0)\n",
      "('mean after centering', -2.8782292e-06)\n",
      "('min', -154.88742)\n",
      "('max', 100.11258)\n"
     ]
    }
   ],
   "source": [
    "# Global Centering\n",
    "\n",
    "# load the image\n",
    "image = Image.open('sydney_bridge.jpg')\n",
    "\n",
    "# convert image to array\n",
    "pixels = asarray(image)\n",
    "\n",
    "#convert the type of array to float\n",
    "pixels = pixels.astype('float32')\n",
    "\n",
    "# calculate the global mean\n",
    "mean = pixels.mean()\n",
    "print('global mean', mean)\n",
    "print('min', pixels.min())\n",
    "print('max', pixels.max())\n",
    "\n",
    "# global centering the pixels where the mean is subtracted from the pixels\n",
    "pixels = pixels - mean\n",
    "\n",
    "# recalculating the mean after centering\n",
    "mean = pixels.mean()\n",
    "print('mean after centering', mean)\n",
    "print('min', pixels.min())\n",
    "print('max', pixels.max())"
   ]
  },
  {
   "cell_type": "code",
   "execution_count": 28,
   "metadata": {},
   "outputs": [
    {
     "name": "stdout",
     "output_type": "stream",
     "text": [
      "('means', array([149.95043813, 153.97311096, 160.73866028]))\n",
      "('min', array([0., 0., 0.], dtype=float32))\n",
      "('max', array([255., 255., 255.], dtype=float32))\n",
      "('mean after recalculating', array([ 1.49682672e-10, -1.16192258e-10,  1.72895356e-10]))\n",
      "('min', array([-149.95043813, -153.97311096, -160.73866028]))\n",
      "('max', array([105.04956187, 101.02688904,  94.26133972]))\n"
     ]
    }
   ],
   "source": [
    "# Local Centering\n",
    "\n",
    "# load image\n",
    "image = Image.open('sydney_bridge.jpg')\n",
    "\n",
    "# convert image to array\n",
    "pixels = asarray(image)\n",
    "\n",
    "# convert pixels to float\n",
    "pixels = pixels.astype('float32')\n",
    "\n",
    "# calculate local mean(ie per channel mean and standard deviations)\n",
    "means = pixels.mean(axis=(0,1), dtype='float64')\n",
    "print('means', means)\n",
    "print('min', pixels.min(axis=(0,1)))\n",
    "print('max', pixels.max(axis=(0,1)))\n",
    "\n",
    "# centering the pixels per channel\n",
    "pixels = pixels - means\n",
    "\n",
    "# Recalculating the mean after centering\n",
    "means = pixels.mean(axis=(1,0), dtype='float64')\n",
    "print('mean after recalculating', means)\n",
    "print('min', pixels.min(axis=(0,1)))\n",
    "print('max', pixels.max(axis=(0,1)))\n"
   ]
  },
  {
   "cell_type": "markdown",
   "metadata": {},
   "source": [
    "## Standardize pixel values"
   ]
  },
  {
   "cell_type": "code",
   "execution_count": 29,
   "metadata": {},
   "outputs": [
    {
     "name": "stdout",
     "output_type": "stream",
     "text": [
      "('mean', 154.88742)\n",
      "('std', 79.586174)\n",
      "('standardized mean', -2.8721374e-07)\n",
      "('standardized std', 0.9999998)\n"
     ]
    }
   ],
   "source": [
    "# Global standardization\n",
    "# mean should br close to 0.0\n",
    "# std should be close to 1.0\n",
    "\n",
    "# load image\n",
    "image = Image.open('sydney_bridge.jpg')\n",
    "\n",
    "# convert image to pixel\n",
    "pixels = asarray(image)\n",
    "\n",
    "#convert integers to float\n",
    "pixels = pixels.astype('float32')\n",
    "\n",
    "#calculate global mean and standard deviation\n",
    "mean, std = pixels.mean(), pixels.std()\n",
    "print('mean', mean)\n",
    "print('std', std)\n",
    "# global standardization of pixels\n",
    "pixels = (pixels - mean)/std\n",
    "\n",
    "mean, std = pixels.mean(), pixels.std()\n",
    "print('standardized mean', mean)\n",
    "print('standardized std', std)"
   ]
  },
  {
   "cell_type": "code",
   "execution_count": 31,
   "metadata": {},
   "outputs": [
    {
     "name": "stdout",
     "output_type": "stream",
     "text": [
      "('mean', 154.88742)\n",
      "('std', 79.586174)\n",
      "('positive mean', 0.52535295)\n",
      "('positive std', 0.39151132)\n",
      "('pixel min', 0.0)\n",
      "('pixel max', 1.0)\n"
     ]
    }
   ],
   "source": [
    "# Positive global standardization\n",
    "# to maintain pixel values to positive domain\n",
    "\n",
    "from numpy import clip\n",
    "\n",
    "# Load image\n",
    "image = Image.open('sydney_bridge.jpg')\n",
    "\n",
    "# convert image to pixels\n",
    "pixels = asarray(image)\n",
    "\n",
    "# convert integer to float\n",
    "pixels = pixels.astype('float32')\n",
    "\n",
    "# calculate global mean and std\n",
    "mean, std = pixels.mean(), pixels.std()\n",
    "\n",
    "print('mean', mean)\n",
    "print('std', std)\n",
    "\n",
    "# global standardization of pixels\n",
    "pixels = (pixels - mean)/ std\n",
    "\n",
    "# clip pixel values to -1,1\n",
    "pixels = clip(pixels, -1.0, 1.0)\n",
    "\n",
    "# shift from [-1,1] to [0,1]\n",
    "pixels = (pixels + 1.0)/2.0\n",
    "\n",
    "mean, std = pixels.mean(), pixels.std()\n",
    "\n",
    "print('positive mean', mean)\n",
    "print('positive std', std)\n",
    "print('pixel min', pixels.min())\n",
    "print('pixel max', pixels.max())"
   ]
  },
  {
   "cell_type": "code",
   "execution_count": 32,
   "metadata": {},
   "outputs": [
    {
     "name": "stdout",
     "output_type": "stream",
     "text": [
      "('perchannel mean', array([149.95043813, 153.97311096, 160.73866028]))\n",
      "('per channel std', array([80.64423767, 79.37184133, 78.3520747 ]))\n",
      "('Local mean', array([ 7.80974875e-13, -3.14409747e-13,  4.89224669e-13]))\n",
      "('Local std', array([1., 1., 1.]))\n"
     ]
    }
   ],
   "source": [
    "# Local standardization\n",
    "# calculate the mean and std of the loaded image per channel.\n",
    "\n",
    "# load image\n",
    "image = Image.open('sydney_bridge.jpg')\n",
    "\n",
    "# convert image to array\n",
    "pixels = asarray(image)\n",
    "\n",
    "pixels = pixels.astype('float32')\n",
    "\n",
    "# calculate per channel mean\n",
    "mean = pixels.mean(axis=(0,1), dtype='float64')\n",
    "# calculate per channel std\n",
    "std = pixels.std(axis=(0,1), dtype='float64')\n",
    "print('perchannel mean', mean)\n",
    "print('per channel std', std)\n",
    "\n",
    "pixels = (pixels - mean)/std\n",
    "\n",
    "mean = pixels.mean(axis=(0,1), dtype='float64')\n",
    "std = pixels.std(axis=(0,1), dtype='float64')\n",
    "\n",
    "print('Local mean', mean)\n",
    "print('Local std', std)\n"
   ]
  },
  {
   "cell_type": "code",
   "execution_count": null,
   "metadata": {},
   "outputs": [],
   "source": []
  }
 ],
 "metadata": {
  "kernelspec": {
   "display_name": "Python 3",
   "language": "python",
   "name": "python3"
  },
  "language_info": {
   "codemirror_mode": {
    "name": "ipython",
    "version": 2
   },
   "file_extension": ".py",
   "mimetype": "text/x-python",
   "name": "python",
   "nbconvert_exporter": "python",
   "pygments_lexer": "ipython2",
   "version": "2.7.17"
  }
 },
 "nbformat": 4,
 "nbformat_minor": 2
}
