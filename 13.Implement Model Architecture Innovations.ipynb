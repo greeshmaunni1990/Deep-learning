{
 "cells": [
  {
   "cell_type": "markdown",
   "metadata": {},
   "source": [
    "## Implementing VGG Blocks"
   ]
  },
  {
   "cell_type": "code",
   "execution_count": 7,
   "metadata": {},
   "outputs": [
    {
     "name": "stdout",
     "output_type": "stream",
     "text": [
      "_________________________________________________________________\n",
      "Layer (type)                 Output Shape              Param #   \n",
      "=================================================================\n",
      "input_4 (InputLayer)         (None, 256, 256, 3)       0         \n",
      "_________________________________________________________________\n",
      "conv2d_5 (Conv2D)            (None, 256, 256, 64)      1792      \n",
      "_________________________________________________________________\n",
      "conv2d_6 (Conv2D)            (None, 256, 256, 64)      36928     \n",
      "_________________________________________________________________\n",
      "max_pooling2d_3 (MaxPooling2 (None, 128, 128, 64)      0         \n",
      "=================================================================\n",
      "Total params: 38,720\n",
      "Trainable params: 38,720\n",
      "Non-trainable params: 0\n",
      "_________________________________________________________________\n"
     ]
    }
   ],
   "source": [
    "from keras.layers import Input\n",
    "from keras.layers import Conv2D, MaxPool2D\n",
    "from keras.models import Model\n",
    "from keras.utils import plot_model\n",
    "\n",
    "# function that will create vgg block where the input is passed with the number of filters and convolutions.\n",
    "# function will add the convolution layers to input layer with the given filter\n",
    "# max pooling is done by the end of the convolutions\n",
    "# return the layer which was convoluted and max pooled\n",
    "# input parmeters:\n",
    "#  (a): input_layer : initialised input\n",
    "#  (b): n_filter    : required number of filters\n",
    "#  (c)  n_conv      : number of convolution layers to be added\n",
    "def vgg_block(input_layer, n_filter, n_conv):\n",
    "    for _ in range(n_conv):\n",
    "        # here we are using 3x3 filters which is by standard used in VGG\n",
    "        input_layer = Conv2D(n_filter, (3,3), padding = 'same', activation='relu')(input_layer)\n",
    "    # max pooling is done by the end of the convolution layers\n",
    "    input_layer = MaxPool2D((2,2), strides=(2,2))(input_layer)\n",
    "    return input_layer\n",
    "\n",
    "# initialising input layer\n",
    "visible = Input(shape=(256,256,3))\n",
    "\n",
    "# returning the updated layer with added convolutional layers\n",
    "layer = vgg_block(visible, 64, 2)\n",
    "\n",
    "model = Model(inputs= visible, outputs = layer)\n",
    "\n",
    "model.summary()\n",
    "\n",
    "plot_model(model, show_shapes=True, to_file='vgg_block.png')\n",
    "\n"
   ]
  },
  {
   "cell_type": "markdown",
   "metadata": {},
   "source": [
    "## Model with multiple VGG blocks "
   ]
  },
  {
   "cell_type": "code",
   "execution_count": 9,
   "metadata": {},
   "outputs": [
    {
     "name": "stdout",
     "output_type": "stream",
     "text": [
      "_________________________________________________________________\n",
      "Layer (type)                 Output Shape              Param #   \n",
      "=================================================================\n",
      "input_6 (InputLayer)         (None, 256, 256, 3)       0         \n",
      "_________________________________________________________________\n",
      "conv2d_15 (Conv2D)           (None, 256, 256, 64)      1792      \n",
      "_________________________________________________________________\n",
      "conv2d_16 (Conv2D)           (None, 256, 256, 64)      36928     \n",
      "_________________________________________________________________\n",
      "max_pooling2d_7 (MaxPooling2 (None, 128, 128, 64)      0         \n",
      "_________________________________________________________________\n",
      "conv2d_17 (Conv2D)           (None, 128, 128, 128)     73856     \n",
      "_________________________________________________________________\n",
      "conv2d_18 (Conv2D)           (None, 128, 128, 128)     147584    \n",
      "_________________________________________________________________\n",
      "max_pooling2d_8 (MaxPooling2 (None, 64, 64, 128)       0         \n",
      "_________________________________________________________________\n",
      "conv2d_19 (Conv2D)           (None, 64, 64, 256)       295168    \n",
      "_________________________________________________________________\n",
      "conv2d_20 (Conv2D)           (None, 64, 64, 256)       590080    \n",
      "_________________________________________________________________\n",
      "conv2d_21 (Conv2D)           (None, 64, 64, 256)       590080    \n",
      "_________________________________________________________________\n",
      "conv2d_22 (Conv2D)           (None, 64, 64, 256)       590080    \n",
      "_________________________________________________________________\n",
      "max_pooling2d_9 (MaxPooling2 (None, 32, 32, 256)       0         \n",
      "=================================================================\n",
      "Total params: 2,325,568\n",
      "Trainable params: 2,325,568\n",
      "Non-trainable params: 0\n",
      "_________________________________________________________________\n"
     ]
    }
   ],
   "source": [
    "# function that will create vgg block where the input is passed with the number of filters and convolutions.\n",
    "# function will add the convolution layers to input layer with the given filter\n",
    "# max pooling is done by the end of the convolutions\n",
    "# return the layer which was convoluted and max pooled\n",
    "# input parmeters:\n",
    "#  (a): input_layer : initialised input\n",
    "#  (b): n_filter    : required number of filters\n",
    "#  (c)  n_conv      : number of convolution layers to be added\n",
    "def vgg_block(input_layer, n_filter, n_conv):\n",
    "    for _ in range(n_conv):\n",
    "        # here we are using 3x3 filters which is by standard used in VGG\n",
    "        input_layer = Conv2D(n_filter, (3,3), padding = 'same', activation='relu')(input_layer)\n",
    "    # max pooling is done by the end of the convolution layers\n",
    "    input_layer = MaxPool2D((2,2), strides=(2,2))(input_layer)\n",
    "    return input_layer\n",
    "\n",
    "\n",
    "visible = Input(shape=(256,256,3))\n",
    "\n",
    "layer = vgg_block(visible, 64, 2)\n",
    "\n",
    "layer = vgg_block(layer, 128, 2)\n",
    "\n",
    "layer = vgg_block(layer, 256, 4)\n",
    "\n",
    "model = Model(inputs=visible, outputs=layer)\n",
    "model.summary()\n",
    "plot_model(model, show_shapes=True, to_file='multiple_vgg_blocks.png')"
   ]
  },
  {
   "cell_type": "markdown",
   "metadata": {},
   "source": [
    "## Naive Inception Module"
   ]
  },
  {
   "cell_type": "code",
   "execution_count": 15,
   "metadata": {},
   "outputs": [
    {
     "name": "stdout",
     "output_type": "stream",
     "text": [
      "__________________________________________________________________________________________________\n",
      "Layer (type)                    Output Shape         Param #     Connected to                     \n",
      "==================================================================================================\n",
      "input_10 (InputLayer)           (None, 256, 256, 3)  0                                            \n",
      "__________________________________________________________________________________________________\n",
      "conv2d_32 (Conv2D)              (None, 256, 256, 64) 256         input_10[0][0]                   \n",
      "__________________________________________________________________________________________________\n",
      "conv2d_33 (Conv2D)              (None, 256, 256, 128 3584        input_10[0][0]                   \n",
      "__________________________________________________________________________________________________\n",
      "conv2d_34 (Conv2D)              (None, 256, 256, 32) 2432        input_10[0][0]                   \n",
      "__________________________________________________________________________________________________\n",
      "max_pooling2d_13 (MaxPooling2D) (None, 256, 256, 3)  0           input_10[0][0]                   \n",
      "__________________________________________________________________________________________________\n",
      "concatenate_4 (Concatenate)     (None, 256, 256, 227 0           conv2d_32[0][0]                  \n",
      "                                                                 conv2d_33[0][0]                  \n",
      "                                                                 conv2d_34[0][0]                  \n",
      "                                                                 max_pooling2d_13[0][0]           \n",
      "==================================================================================================\n",
      "Total params: 6,272\n",
      "Trainable params: 6,272\n",
      "Non-trainable params: 0\n",
      "__________________________________________________________________________________________________\n"
     ]
    }
   ],
   "source": [
    "from keras.layers.merge import concatenate\n",
    "\n",
    "def naive_inception_module(input_layer, f1, f2, f3):\n",
    "    # 1x1 convolution\n",
    "    conv1 = Conv2D(f1, (1,1), padding='same', activation='relu')(input_layer)\n",
    "    # 3x3 convolution\n",
    "    conv3 = Conv2D(f2, (3,3), padding='same', activation='relu')(input_layer)\n",
    "    # 5x5 convolution\n",
    "    conv5 = Conv2D(f3, (5,5), padding='same', activation='relu')(input_layer)\n",
    "    # 3x3 maxpooling\n",
    "    pool = MaxPool2D((3,3), strides=(1,1), padding='same')(input_layer)\n",
    "    \n",
    "    # concatenate all the layers\n",
    "    output_layer = concatenate([conv1, conv3, conv5, pool], axis=-1)\n",
    "    \n",
    "    return output_layer\n",
    "\n",
    "visible = Input(shape=(256,256,3))\n",
    "\n",
    "output = inception_module(visible, 64, 128, 32)\n",
    "\n",
    "model = Model(inputs=visible, outputs=output)\n",
    "\n",
    "model.summary()\n",
    "\n",
    "plot_model(model, show_shapes=True, to_file='naive_inception_module.png')\n",
    "    "
   ]
  },
  {
   "cell_type": "markdown",
   "metadata": {},
   "source": [
    "## Inception Module"
   ]
  },
  {
   "cell_type": "code",
   "execution_count": 21,
   "metadata": {},
   "outputs": [
    {
     "name": "stdout",
     "output_type": "stream",
     "text": [
      "__________________________________________________________________________________________________\n",
      "Layer (type)                    Output Shape         Param #     Connected to                     \n",
      "==================================================================================================\n",
      "input_14 (InputLayer)           (None, 256, 256, 3)  0                                            \n",
      "__________________________________________________________________________________________________\n",
      "conv2d_42 (Conv2D)              (None, 256, 256, 96) 384         input_14[0][0]                   \n",
      "__________________________________________________________________________________________________\n",
      "conv2d_44 (Conv2D)              (None, 256, 256, 16) 64          input_14[0][0]                   \n",
      "__________________________________________________________________________________________________\n",
      "max_pooling2d_15 (MaxPooling2D) (None, 256, 256, 3)  0           input_14[0][0]                   \n",
      "__________________________________________________________________________________________________\n",
      "conv2d_41 (Conv2D)              (None, 256, 256, 64) 256         input_14[0][0]                   \n",
      "__________________________________________________________________________________________________\n",
      "conv2d_43 (Conv2D)              (None, 256, 256, 128 110720      conv2d_42[0][0]                  \n",
      "__________________________________________________________________________________________________\n",
      "conv2d_45 (Conv2D)              (None, 256, 256, 32) 12832       conv2d_44[0][0]                  \n",
      "__________________________________________________________________________________________________\n",
      "conv2d_46 (Conv2D)              (None, 256, 256, 32) 128         max_pooling2d_15[0][0]           \n",
      "__________________________________________________________________________________________________\n",
      "concatenate_6 (Concatenate)     (None, 256, 256, 256 0           conv2d_41[0][0]                  \n",
      "                                                                 conv2d_43[0][0]                  \n",
      "                                                                 conv2d_45[0][0]                  \n",
      "                                                                 conv2d_46[0][0]                  \n",
      "__________________________________________________________________________________________________\n",
      "conv2d_48 (Conv2D)              (None, 256, 256, 128 32896       concatenate_6[0][0]              \n",
      "__________________________________________________________________________________________________\n",
      "conv2d_50 (Conv2D)              (None, 256, 256, 32) 8224        concatenate_6[0][0]              \n",
      "__________________________________________________________________________________________________\n",
      "max_pooling2d_16 (MaxPooling2D) (None, 256, 256, 256 0           concatenate_6[0][0]              \n",
      "__________________________________________________________________________________________________\n",
      "conv2d_47 (Conv2D)              (None, 256, 256, 128 32896       concatenate_6[0][0]              \n",
      "__________________________________________________________________________________________________\n",
      "conv2d_49 (Conv2D)              (None, 256, 256, 192 221376      conv2d_48[0][0]                  \n",
      "__________________________________________________________________________________________________\n",
      "conv2d_51 (Conv2D)              (None, 256, 256, 96) 76896       conv2d_50[0][0]                  \n",
      "__________________________________________________________________________________________________\n",
      "conv2d_52 (Conv2D)              (None, 256, 256, 64) 16448       max_pooling2d_16[0][0]           \n",
      "__________________________________________________________________________________________________\n",
      "concatenate_7 (Concatenate)     (None, 256, 256, 480 0           conv2d_47[0][0]                  \n",
      "                                                                 conv2d_49[0][0]                  \n",
      "                                                                 conv2d_51[0][0]                  \n",
      "                                                                 conv2d_52[0][0]                  \n",
      "==================================================================================================\n",
      "Total params: 513,120\n",
      "Trainable params: 513,120\n",
      "Non-trainable params: 0\n",
      "__________________________________________________________________________________________________\n"
     ]
    }
   ],
   "source": [
    "def inception_module(input_layer, f1, f2_in, f2_out, f3_in, f3_out, f4_out):\n",
    "    # 1x1 convolution\n",
    "    conv1 = Conv2D(f1, (1,1), padding = 'same', activation='relu')(input_layer)\n",
    "    \n",
    "    # 3x3 convolution\n",
    "    conv3 = Conv2D(f2_in, (1,1), padding = 'same', activation='relu')(input_layer)\n",
    "    conv3 = Conv2D(f2_out, (3,3), padding='same', activation='relu')(conv3)\n",
    "    \n",
    "    # 5x5 convolution\n",
    "    conv5 = Conv2D(f3_in, (1,1), padding='same', activation='relu')(input_layer)\n",
    "    conv5 = Conv2D(f3_out, (5,5), padding='same', activation='relu')(conv5)\n",
    "    \n",
    "    # 3x3 max pooling\n",
    "    pool = MaxPool2D((3,3), strides=(1,1), padding='same')(input_layer)\n",
    "    pool = Conv2D(f4_out, (1,1), padding='same', activation='relu')(pool)\n",
    "    \n",
    "    output_layer = concatenate([conv1, conv3, conv5, pool])\n",
    "    return output_layer\n",
    "\n",
    "visible = Input(shape=(256,256,3))\n",
    "layer = inception_module(visible, 64, 96, 128, 16, 32, 32)\n",
    "layer = inception_module(layer, 128, 128, 192, 32, 96, 64)\n",
    "\n",
    "model = Model(inputs=visible, outputs=layer)\n",
    "model.summary()\n",
    "plot_model(model, show_shapes=True, to_file='inception_module.png')"
   ]
  },
  {
   "cell_type": "markdown",
   "metadata": {},
   "source": [
    "## Residual Layer"
   ]
  },
  {
   "cell_type": "code",
   "execution_count": 27,
   "metadata": {},
   "outputs": [
    {
     "name": "stdout",
     "output_type": "stream",
     "text": [
      "__________________________________________________________________________________________________\n",
      "Layer (type)                    Output Shape         Param #     Connected to                     \n",
      "==================================================================================================\n",
      "input_17 (InputLayer)           (None, 256, 256, 3)  0                                            \n",
      "__________________________________________________________________________________________________\n",
      "conv2d_60 (Conv2D)              (None, 256, 256, 64) 1792        input_17[0][0]                   \n",
      "__________________________________________________________________________________________________\n",
      "conv2d_61 (Conv2D)              (None, 256, 256, 64) 36928       conv2d_60[0][0]                  \n",
      "__________________________________________________________________________________________________\n",
      "conv2d_59 (Conv2D)              (None, 256, 256, 64) 256         input_17[0][0]                   \n",
      "__________________________________________________________________________________________________\n",
      "add_2 (Add)                     (None, 256, 256, 64) 0           conv2d_61[0][0]                  \n",
      "                                                                 conv2d_59[0][0]                  \n",
      "__________________________________________________________________________________________________\n",
      "activation_1 (Activation)       (None, 256, 256, 64) 0           add_2[0][0]                      \n",
      "==================================================================================================\n",
      "Total params: 38,976\n",
      "Trainable params: 38,976\n",
      "Non-trainable params: 0\n",
      "__________________________________________________________________________________________________\n"
     ]
    }
   ],
   "source": [
    "from keras.layers import add, Activation\n",
    "\n",
    "# function for creating an identity or projection residual module\n",
    "def residual_module(layer_in, n_filters):\n",
    "    merge_input = layer_in\n",
    "    # check if the number of filters needs to be increase, assumes channels last format\n",
    "    if layer_in.shape[-1] != n_filters:\n",
    "\n",
    "        merge_input = Conv2D(n_filters, (1,1), padding= 'same' , activation= 'relu' ,\n",
    "        kernel_initializer= 'he_normal' )(layer_in)\n",
    "        # conv1\n",
    "        conv1 = Conv2D(n_filters, (3,3), padding= 'same' , activation= 'relu' ,\n",
    "        kernel_initializer= 'he_normal')(layer_in)\n",
    "        # conv2\n",
    "        conv2 = Conv2D(n_filters, (3,3), padding= 'same' , activation= 'linear' ,\n",
    "        kernel_initializer= 'he_normal' )(conv1)\n",
    "        # add filters, assumes filters/channels last\n",
    "        layer_out = add([conv2, merge_input])\n",
    "        # activation function\n",
    "        layer_out = Activation( 'relu' )(layer_out)\n",
    "        return layer_out\n",
    "# define model input\n",
    "visible = Input(shape=(256, 256, 3))\n",
    "# add vgg module\n",
    "layer = residual_module(visible, 64)\n",
    "# create model\n",
    "model = Model(inputs=visible, outputs=layer)\n",
    "# summarize model\n",
    "model.summary()\n",
    "# plot model architecture\n",
    "plot_model(model, show_shapes=True, to_file= 'residual_module.png' )"
   ]
  }
 ],
 "metadata": {
  "kernelspec": {
   "display_name": "Python 3",
   "language": "python",
   "name": "python3"
  },
  "language_info": {
   "codemirror_mode": {
    "name": "ipython",
    "version": 2
   },
   "file_extension": ".py",
   "mimetype": "text/x-python",
   "name": "python",
   "nbconvert_exporter": "python",
   "pygments_lexer": "ipython2",
   "version": "2.7.17"
  }
 },
 "nbformat": 4,
 "nbformat_minor": 2
}
