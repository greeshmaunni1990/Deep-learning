{
 "cells": [
  {
   "cell_type": "markdown",
   "metadata": {},
   "source": [
    "## Average pooling"
   ]
  },
  {
   "cell_type": "code",
   "execution_count": 9,
   "metadata": {},
   "outputs": [
    {
     "name": "stdout",
     "output_type": "stream",
     "text": [
      "_________________________________________________________________\n",
      "Layer (type)                 Output Shape              Param #   \n",
      "=================================================================\n",
      "conv2d_3 (Conv2D)            (None, 6, 6, 1)           10        \n",
      "_________________________________________________________________\n",
      "average_pooling2d_2 (Average (None, 3, 3, 1)           0         \n",
      "=================================================================\n",
      "Total params: 10\n",
      "Trainable params: 10\n",
      "Non-trainable params: 0\n",
      "_________________________________________________________________\n",
      "[0.0]\n",
      "[3.0]\n",
      "[0.0]\n",
      "[0.0]\n",
      "[3.0]\n",
      "[0.0]\n",
      "[0.0]\n",
      "[3.0]\n",
      "[0.0]\n"
     ]
    }
   ],
   "source": [
    "from numpy import asarray\n",
    "from keras.models import Sequential\n",
    "from keras.layers import Conv2D, AveragePooling2D\n",
    "\n",
    "\n",
    "\n",
    "data = [[0, 0, 0, 1, 1, 0, 0, 0],\n",
    "[0, 0, 0, 1, 1, 0, 0, 0],\n",
    "[0, 0, 0, 1, 1, 0, 0, 0],\n",
    "[0, 0, 0, 1, 1, 0, 0, 0],\n",
    "[0, 0, 0, 1, 1, 0, 0, 0],\n",
    "[0, 0, 0, 1, 1, 0, 0, 0],\n",
    "[0, 0, 0, 1, 1, 0, 0, 0],\n",
    "[0, 0, 0, 1, 1, 0, 0, 0]]\n",
    "\n",
    "data = asarray(data)\n",
    "data = data.reshape(1,8,8,1)\n",
    "\n",
    "# define model\n",
    "model = Sequential()\n",
    "model.add(Conv2D(1, (3,3), activation='relu', input_shape=(8,8,1)))\n",
    "model.add(AveragePooling2D())\n",
    "model.summary()\n",
    "\n",
    "# define vertical line detector\n",
    "detector = [[[[0]],[[1]],[[0]]],\n",
    "[[[0]],[[1]],[[0]]],\n",
    "[[[0]],[[1]],[[0]]]]\n",
    "\n",
    "weights = [asarray(detector), asarray([0.0])]\n",
    "model.set_weights(weights)\n",
    "\n",
    "\n",
    "# apply the filter to the input\n",
    "yhat = model.predict(data)\n",
    "\n",
    "# view the output after pooling\n",
    "for r in range(yhat.shape[1]):\n",
    "    for c in range(yhat.shape[2]):\n",
    "        print([yhat[0,r,c,0]])"
   ]
  },
  {
   "cell_type": "markdown",
   "metadata": {},
   "source": [
    "## Maxpooling"
   ]
  },
  {
   "cell_type": "code",
   "execution_count": 11,
   "metadata": {},
   "outputs": [
    {
     "name": "stdout",
     "output_type": "stream",
     "text": [
      "_________________________________________________________________\n",
      "Layer (type)                 Output Shape              Param #   \n",
      "=================================================================\n",
      "conv2d_5 (Conv2D)            (None, 6, 6, 1)           10        \n",
      "_________________________________________________________________\n",
      "max_pooling2d_1 (MaxPooling2 (None, 3, 3, 1)           0         \n",
      "=================================================================\n",
      "Total params: 10\n",
      "Trainable params: 10\n",
      "Non-trainable params: 0\n",
      "_________________________________________________________________\n",
      "[0.0]\n",
      "[3.0]\n",
      "[0.0]\n",
      "[0.0]\n",
      "[3.0]\n",
      "[0.0]\n",
      "[0.0]\n",
      "[3.0]\n",
      "[0.0]\n"
     ]
    }
   ],
   "source": [
    "from numpy import asarray\n",
    "from keras.models import Sequential\n",
    "from keras.layers import Conv2D, MaxPooling2D\n",
    "\n",
    "\n",
    "\n",
    "data = [[0, 0, 0, 1, 1, 0, 0, 0],\n",
    "[0, 0, 0, 1, 1, 0, 0, 0],\n",
    "[0, 0, 0, 1, 1, 0, 0, 0],\n",
    "[0, 0, 0, 1, 1, 0, 0, 0],\n",
    "[0, 0, 0, 1, 1, 0, 0, 0],\n",
    "[0, 0, 0, 1, 1, 0, 0, 0],\n",
    "[0, 0, 0, 1, 1, 0, 0, 0],\n",
    "[0, 0, 0, 1, 1, 0, 0, 0]]\n",
    "\n",
    "data = asarray(data)\n",
    "data = data.reshape(1,8,8,1)\n",
    "\n",
    "# define model\n",
    "model = Sequential()\n",
    "model.add(Conv2D(1, (3,3), activation='relu', input_shape=(8,8,1)))\n",
    "model.add(MaxPooling2D())\n",
    "model.summary()\n",
    "\n",
    "# define vertical line detector\n",
    "detector = [[[[0]],[[1]],[[0]]],\n",
    "[[[0]],[[1]],[[0]]],\n",
    "[[[0]],[[1]],[[0]]]]\n",
    "\n",
    "weights = [asarray(detector), asarray([0.0])]\n",
    "model.set_weights(weights)\n",
    "\n",
    "\n",
    "# apply the filter to the input\n",
    "yhat = model.predict(data)\n",
    "\n",
    "# view the output after pooling\n",
    "for r in range(yhat.shape[1]):\n",
    "    for c in range(yhat.shape[2]):\n",
    "        print([yhat[0,r,c,0]])"
   ]
  },
  {
   "cell_type": "markdown",
   "metadata": {},
   "source": [
    "## Global Max Pooling"
   ]
  },
  {
   "cell_type": "code",
   "execution_count": 14,
   "metadata": {},
   "outputs": [
    {
     "name": "stdout",
     "output_type": "stream",
     "text": [
      "_________________________________________________________________\n",
      "Layer (type)                 Output Shape              Param #   \n",
      "=================================================================\n",
      "conv2d_8 (Conv2D)            (None, 6, 6, 1)           10        \n",
      "_________________________________________________________________\n",
      "global_max_pooling2d_3 (Glob (None, 1)                 0         \n",
      "=================================================================\n",
      "Total params: 10\n",
      "Trainable params: 10\n",
      "Non-trainable params: 0\n",
      "_________________________________________________________________\n",
      "[[3.]]\n"
     ]
    }
   ],
   "source": [
    "from numpy import asarray\n",
    "from keras.models import Sequential\n",
    "from keras.layers import Conv2D, GlobalMaxPool2D\n",
    "\n",
    "\n",
    "\n",
    "data = [[0, 0, 0, 1, 1, 0, 0, 0],\n",
    "[0, 0, 0, 1, 1, 0, 0, 0],\n",
    "[0, 0, 0, 1, 1, 0, 0, 0],\n",
    "[0, 0, 0, 1, 1, 0, 0, 0],\n",
    "[0, 0, 0, 1, 1, 0, 0, 0],\n",
    "[0, 0, 0, 1, 1, 0, 0, 0],\n",
    "[0, 0, 0, 1, 1, 0, 0, 0],\n",
    "[0, 0, 0, 1, 1, 0, 0, 0]]\n",
    "\n",
    "data = asarray(data)\n",
    "data = data.reshape(1,8,8,1)\n",
    "\n",
    "# define model\n",
    "model = Sequential()\n",
    "model.add(Conv2D(1, (3,3), activation='relu', input_shape=(8,8,1)))\n",
    "model.add(GlobalMaxPool2D())\n",
    "model.summary()\n",
    "\n",
    "# define vertical line detector\n",
    "detector = [[[[0]],[[1]],[[0]]],\n",
    "[[[0]],[[1]],[[0]]],\n",
    "[[[0]],[[1]],[[0]]]]\n",
    "\n",
    "weights = [asarray(detector), asarray([0.0])]\n",
    "model.set_weights(weights)\n",
    "\n",
    "\n",
    "# apply the filter to the input\n",
    "yhat = model.predict(data)\n",
    "print(yhat)"
   ]
  },
  {
   "cell_type": "code",
   "execution_count": null,
   "metadata": {},
   "outputs": [],
   "source": []
  }
 ],
 "metadata": {
  "kernelspec": {
   "display_name": "Python 3",
   "language": "python",
   "name": "python3"
  },
  "language_info": {
   "codemirror_mode": {
    "name": "ipython",
    "version": 2
   },
   "file_extension": ".py",
   "mimetype": "text/x-python",
   "name": "python",
   "nbconvert_exporter": "python",
   "pygments_lexer": "ipython2",
   "version": "2.7.17"
  }
 },
 "nbformat": 4,
 "nbformat_minor": 2
}
