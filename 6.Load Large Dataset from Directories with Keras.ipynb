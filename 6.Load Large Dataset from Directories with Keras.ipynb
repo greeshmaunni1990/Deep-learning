{
 "cells": [
  {
   "cell_type": "code",
   "execution_count": 1,
   "metadata": {},
   "outputs": [],
   "source": [
    "from keras.preprocessing.image import ImageDataGenerator"
   ]
  },
  {
   "cell_type": "code",
   "execution_count": 6,
   "metadata": {},
   "outputs": [
    {
     "name": "stdout",
     "output_type": "stream",
     "text": [
      "Found 2 images belonging to 2 classes.\n",
      "Found 2 images belonging to 2 classes.\n",
      "Found 2 images belonging to 2 classes.\n",
      "shape of batchX is (2, 256, 256, 3) and min of batchX is 0.0 and max of batchX is 255.0\n"
     ]
    }
   ],
   "source": [
    "# create generator\n",
    "datagen = ImageDataGenerator()\n",
    "\n",
    "# prepare iterator for each dataset\n",
    "train_iterator = datagen.flow_from_directory('data/train/', class_mode='binary')\n",
    "test_iterator = datagen.flow_from_directory('data/test/', class_mode='binary')\n",
    "validation_iterator = datagen.flow_from_directory('data/validation/', class_mode='binary')\n",
    "\n",
    "# check if iterator works\n",
    "batchX, batchY = train_iterator.next()\n",
    "print('shape of batchX is {} and min of batchX is {} and max of batchX is {}'.format(batchX.shape, batchX.min(), batchX.max()))"
   ]
  },
  {
   "cell_type": "code",
   "execution_count": null,
   "metadata": {},
   "outputs": [],
   "source": []
  }
 ],
 "metadata": {
  "kernelspec": {
   "display_name": "Python 3",
   "language": "python",
   "name": "python3"
  },
  "language_info": {
   "codemirror_mode": {
    "name": "ipython",
    "version": 2
   },
   "file_extension": ".py",
   "mimetype": "text/x-python",
   "name": "python",
   "nbconvert_exporter": "python",
   "pygments_lexer": "ipython2",
   "version": "2.7.17"
  }
 },
 "nbformat": 4,
 "nbformat_minor": 2
}
