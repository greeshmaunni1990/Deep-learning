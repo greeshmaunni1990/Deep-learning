{
 "cells": [
  {
   "cell_type": "code",
   "execution_count": 12,
   "metadata": {},
   "outputs": [],
   "source": [
    "from keras.models import Model\n",
    "from keras.layers import Input\n",
    "from keras.layers import Dense\n",
    "from keras.utils import plot_model\n",
    "from keras.layers.convolutional import Conv2D\n",
    "from keras.layers.pooling import MaxPool2D\n",
    "from keras.layers import Flatten\n",
    "from keras.layers.recurrent import LSTM"
   ]
  },
  {
   "cell_type": "code",
   "execution_count": 4,
   "metadata": {},
   "outputs": [
    {
     "name": "stdout",
     "output_type": "stream",
     "text": [
      "WARNING:tensorflow:From /home/aifi/anaconda3/lib/python2.7/site-packages/tensorflow/python/framework/op_def_library.py:263: colocate_with (from tensorflow.python.framework.ops) is deprecated and will be removed in a future version.\n",
      "Instructions for updating:\n",
      "Colocations handled automatically by placer.\n",
      "_________________________________________________________________\n",
      "Layer (type)                 Output Shape              Param #   \n",
      "=================================================================\n",
      "input_1 (InputLayer)         (None, 10)                0         \n",
      "_________________________________________________________________\n",
      "dense_1 (Dense)              (None, 10)                110       \n",
      "_________________________________________________________________\n",
      "dense_2 (Dense)              (None, 20)                220       \n",
      "_________________________________________________________________\n",
      "dense_3 (Dense)              (None, 10)                210       \n",
      "_________________________________________________________________\n",
      "dense_4 (Dense)              (None, 1)                 11        \n",
      "=================================================================\n",
      "Total params: 551\n",
      "Trainable params: 551\n",
      "Non-trainable params: 0\n",
      "_________________________________________________________________\n"
     ]
    }
   ],
   "source": [
    "# Multilayer Perceptron Layer that has 10 inputs and three hidden layers with 10,20 and 10 neurons\n",
    "visible = Input(shape=(10,))\n",
    "hidden_one = Dense(10, activation='relu')(visible)\n",
    "hidden_two = Dense(20, activation='relu')(hidden_one)\n",
    "hidden_three = Dense(10, activation='relu')(hidden_two)\n",
    "output = Dense(1, activation='sigmoid')(hidden_three)\n",
    "model = Model(inputs=visible, outputs=output)\n",
    "model.summary()\n",
    "plot_model(model, to_file='multilayer_percetron_graph.png')"
   ]
  },
  {
   "cell_type": "code",
   "execution_count": 11,
   "metadata": {},
   "outputs": [
    {
     "name": "stdout",
     "output_type": "stream",
     "text": [
      "<class 'tensorflow.python.framework.ops.Tensor'>\n",
      "_________________________________________________________________\n",
      "Layer (type)                 Output Shape              Param #   \n",
      "=================================================================\n",
      "input_6 (InputLayer)         (None, 64, 64, 1)         0         \n",
      "_________________________________________________________________\n",
      "conv2d_9 (Conv2D)            (None, 61, 61, 32)        544       \n",
      "_________________________________________________________________\n",
      "max_pooling2d_9 (MaxPooling2 (None, 30, 30, 32)        0         \n",
      "_________________________________________________________________\n",
      "conv2d_10 (Conv2D)           (None, 27, 27, 16)        8208      \n",
      "_________________________________________________________________\n",
      "max_pooling2d_10 (MaxPooling (None, 13, 13, 16)        0         \n",
      "_________________________________________________________________\n",
      "flatten_5 (Flatten)          (None, 2704)              0         \n",
      "_________________________________________________________________\n",
      "dense_13 (Dense)             (None, 10)                27050     \n",
      "_________________________________________________________________\n",
      "dense_14 (Dense)             (None, 1)                 11        \n",
      "=================================================================\n",
      "Total params: 35,813\n",
      "Trainable params: 35,813\n",
      "Non-trainable params: 0\n",
      "_________________________________________________________________\n"
     ]
    }
   ],
   "source": [
    "# Image classificarion using CNN using 64x64 image and sequence of two convolutional and pooling layerso\n",
    "\n",
    "#Input is an 64x64 image\n",
    "visible = Input(shape=(64,64,1))\n",
    "\n",
    "# Passed input to convolution that uses 32 filters of 4x4 kernels\n",
    "conv1d = Conv2D(32, (4,4), activation='relu')(visible)\n",
    "pool1 = MaxPool2D()(conv1d)\n",
    "# Passed input to convolution that uses 16 filters of 4x4 kernels\n",
    "conv2d = Conv2D(16,(4,4), activation='relu')(pool1)\n",
    "pool2 = MaxPool2D()(conv2d)\n",
    "\n",
    "#Flatten the output that has been maxpooled\n",
    "flatten = Flatten()(pool2)\n",
    "\n",
    "#Output from the flatten is then given to hidden layer of 10 neurons\n",
    "hidden1 = Dense(10, activation='relu')(flatten)\n",
    "\n",
    "#Output has one neuron and uses sigmoid activation\n",
    "output = Dense(1, activation='sigmoid')(hidden1)\n",
    "\n",
    "model = Model(inputs=visible, outputs=output)\n",
    "model.summary()\n",
    "plot_model(model, 'convolutional_neural_network.png')\n"
   ]
  },
  {
   "cell_type": "code",
   "execution_count": 13,
   "metadata": {},
   "outputs": [
    {
     "name": "stdout",
     "output_type": "stream",
     "text": [
      "_________________________________________________________________\n",
      "Layer (type)                 Output Shape              Param #   \n",
      "=================================================================\n",
      "input_7 (InputLayer)         (None, 100, 1)            0         \n",
      "_________________________________________________________________\n",
      "lstm_1 (LSTM)                (None, 10)                480       \n",
      "_________________________________________________________________\n",
      "dense_15 (Dense)             (None, 10)                110       \n",
      "_________________________________________________________________\n",
      "dense_16 (Dense)             (None, 1)                 11        \n",
      "=================================================================\n",
      "Total params: 601\n",
      "Trainable params: 601\n",
      "Non-trainable params: 0\n",
      "_________________________________________________________________\n"
     ]
    }
   ],
   "source": [
    "# Implementing RNN \n",
    "visible = Input(shape=(100,1))\n",
    "hidden_one = LSTM(10)(visible)\n",
    "hidden_two = Dense(10, activation='relu')(hidden_one)\n",
    "output = Dense(1, activation='sigmoid')(hidden_two)\n",
    "\n",
    "model = Model(inputs=visible, outputs=output)\n",
    "model.summary()\n",
    "plot_model(model, 'recurrent_neural_network.png')"
   ]
  }
 ],
 "metadata": {
  "kernelspec": {
   "display_name": "Python 3",
   "language": "python",
   "name": "python3"
  },
  "language_info": {
   "codemirror_mode": {
    "name": "ipython",
    "version": 2
   },
   "file_extension": ".py",
   "mimetype": "text/x-python",
   "name": "python",
   "nbconvert_exporter": "python",
   "pygments_lexer": "ipython2",
   "version": "2.7.17"
  }
 },
 "nbformat": 4,
 "nbformat_minor": 2
}
