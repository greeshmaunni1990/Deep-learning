{
 "cells": [
  {
   "cell_type": "markdown",
   "metadata": {},
   "source": [
    "## Apply filter to Input "
   ]
  },
  {
   "cell_type": "code",
   "execution_count": 2,
   "metadata": {},
   "outputs": [
    {
     "name": "stderr",
     "output_type": "stream",
     "text": [
      "Using TensorFlow backend.\n"
     ]
    }
   ],
   "source": [
    "from numpy import asarray\n",
    "from keras.models import Sequential\n",
    "from keras.layers import Conv1D"
   ]
  },
  {
   "cell_type": "code",
   "execution_count": 3,
   "metadata": {},
   "outputs": [
    {
     "name": "stdout",
     "output_type": "stream",
     "text": [
      "WARNING:tensorflow:From /home/aifi/anaconda3/lib/python2.7/site-packages/tensorflow/python/framework/op_def_library.py:263: colocate_with (from tensorflow.python.framework.ops) is deprecated and will be removed in a future version.\n",
      "Instructions for updating:\n",
      "Colocations handled automatically by placer.\n",
      "[array([[[0.]],\n",
      "\n",
      "       [[1.]],\n",
      "\n",
      "       [[0.]]], dtype=float32), array([0.], dtype=float32)]\n",
      "[[[0.]\n",
      "  [0.]\n",
      "  [1.]\n",
      "  [1.]\n",
      "  [0.]\n",
      "  [0.]]]\n"
     ]
    }
   ],
   "source": [
    "data = asarray([0, 0, 0, 1, 1, 0, 0, 0])\n",
    "\n",
    "# reshape(dimension, rows, columns)\n",
    "data = data.reshape(1, 8, 1)\n",
    "\n",
    "# create model\n",
    "model = Sequential()\n",
    "\n",
    "model.add(Conv1D(1, 3, input_shape=(8,1)))\n",
    "\n",
    "# define the filter which is a vertical line detector\n",
    "weights = [asarray([[[0]], [[1]], [[0]]]), asarray([0.0])]\n",
    "\n",
    "# store the weights in the model\n",
    "model.set_weights(weights)\n",
    "\n",
    "# check if they are stored\n",
    "print(model.get_weights())\n",
    "\n",
    "# apply filter to the input data\n",
    "yhat = model.predict(data)\n",
    "print(yhat)"
   ]
  },
  {
   "cell_type": "markdown",
   "metadata": {},
   "source": [
    "## 2D Convolution Layer"
   ]
  },
  {
   "cell_type": "code",
   "execution_count": 8,
   "metadata": {},
   "outputs": [
    {
     "name": "stdout",
     "output_type": "stream",
     "text": [
      "<type 'list'>\n",
      "<type 'numpy.ndarray'>\n",
      "(8, 8)\n",
      "(1, 8, 8, 1)\n"
     ]
    }
   ],
   "source": [
    "data = [[0, 0, 0, 1, 1, 0, 0, 0],\n",
    "[0, 0, 0, 1, 1, 0, 0, 0],\n",
    "[0, 0, 0, 1, 1, 0, 0, 0],\n",
    "[0, 0, 0, 1, 1, 0, 0, 0],\n",
    "[0, 0, 0, 1, 1, 0, 0, 0],\n",
    "[0, 0, 0, 1, 1, 0, 0, 0],\n",
    "[0, 0, 0, 1, 1, 0, 0, 0],\n",
    "[0, 0, 0, 1, 1, 0, 0, 0]]\n",
    "print(type(data))\n",
    "\n",
    "data = asarray(data)\n",
    "print(type(data))\n",
    "print(data.shape)\n",
    "data = data.reshape(1, 8, 8, 1)\n",
    "print(data.shape)"
   ]
  },
  {
   "cell_type": "code",
   "execution_count": 22,
   "metadata": {},
   "outputs": [
    {
     "name": "stdout",
     "output_type": "stream",
     "text": [
      "[array([[[[0.]],\n",
      "\n",
      "        [[1.]],\n",
      "\n",
      "        [[0.]]],\n",
      "\n",
      "\n",
      "       [[[0.]],\n",
      "\n",
      "        [[1.]],\n",
      "\n",
      "        [[0.]]],\n",
      "\n",
      "\n",
      "       [[[0.]],\n",
      "\n",
      "        [[1.]],\n",
      "\n",
      "        [[0.]]]], dtype=float32), array([0.], dtype=float32)]\n",
      "(1, 6, 6, 1)\n",
      "('>>', 0.0)\n",
      "('>>', 0.0)\n",
      "('>>', 3.0)\n",
      "('>>', 3.0)\n",
      "('>>', 0.0)\n",
      "('>>', 0.0)\n",
      "('>>', 0.0)\n",
      "('>>', 0.0)\n",
      "('>>', 3.0)\n",
      "('>>', 3.0)\n",
      "('>>', 0.0)\n",
      "('>>', 0.0)\n",
      "('>>', 0.0)\n",
      "('>>', 0.0)\n",
      "('>>', 3.0)\n",
      "('>>', 3.0)\n",
      "('>>', 0.0)\n",
      "('>>', 0.0)\n",
      "('>>', 0.0)\n",
      "('>>', 0.0)\n",
      "('>>', 3.0)\n",
      "('>>', 3.0)\n",
      "('>>', 0.0)\n",
      "('>>', 0.0)\n",
      "('>>', 0.0)\n",
      "('>>', 0.0)\n",
      "('>>', 3.0)\n",
      "('>>', 3.0)\n",
      "('>>', 0.0)\n",
      "('>>', 0.0)\n",
      "('>>', 0.0)\n",
      "('>>', 0.0)\n",
      "('>>', 3.0)\n",
      "('>>', 3.0)\n",
      "('>>', 0.0)\n",
      "('>>', 0.0)\n"
     ]
    }
   ],
   "source": [
    "from keras.layers import Conv2D\n",
    "\n",
    "\n",
    "data = [[0, 0, 0, 1, 1, 0, 0, 0],\n",
    "[0, 0, 0, 1, 1, 0, 0, 0],\n",
    "[0, 0, 0, 1, 1, 0, 0, 0],\n",
    "[0, 0, 0, 1, 1, 0, 0, 0],\n",
    "[0, 0, 0, 1, 1, 0, 0, 0],\n",
    "[0, 0, 0, 1, 1, 0, 0, 0],\n",
    "[0, 0, 0, 1, 1, 0, 0, 0],\n",
    "[0, 0, 0, 1, 1, 0, 0, 0]]\n",
    "\n",
    "# convert to array\n",
    "data = asarray(data)\n",
    "\n",
    "# reshape data to 1 sample, 8 rows, 8 columns and 1 channel\n",
    "data = data.reshape(1, 8, 8, 1)\n",
    "\n",
    "# create a model\n",
    "model = Sequential()\n",
    "model.add(Conv2D(1, (3,3), input_shape = (8, 8, 1)))\n",
    "\n",
    "# define vertical line detector which is a 3x3 array\n",
    "detector = [[[[0]],[[1]],[[0]]],\n",
    "[[[0]],[[1]],[[0]]],\n",
    "[[[0]],[[1]],[[0]]]]\n",
    "\n",
    "weights = [asarray(detector), asarray([0.0])]\n",
    "\n",
    "# set the weight\n",
    "model.set_weights(weights)\n",
    "\n",
    "# confirm the weight\n",
    "print(model.get_weights())\n",
    "\n",
    "yhat = model.predict(data)\n",
    "print(yhat.shape)\n",
    "\n",
    "for row in range(yhat.shape[1]):\n",
    "    for col in range(yhat.shape[2]):\n",
    "        print(\">>\", yhat[0, row, col, 0])\n"
   ]
  },
  {
   "cell_type": "code",
   "execution_count": 25,
   "metadata": {},
   "outputs": [
    {
     "name": "stdout",
     "output_type": "stream",
     "text": [
      "0\n"
     ]
    }
   ],
   "source": [
    "# tensor dot\n",
    "\n",
    "from numpy import asarray\n",
    "from numpy import tensordot\n",
    "\n",
    "m1 = asarray([[0,1,0],\n",
    "             [0,1,0],\n",
    "             [0,1,0]])\n",
    "\n",
    "m2 = asarray([[0,0,0],\n",
    "             [0,0,0],\n",
    "             [0,0,0]])\n",
    "print(tensordot(m1, m2))"
   ]
  }
 ],
 "metadata": {
  "kernelspec": {
   "display_name": "Python 3",
   "language": "python",
   "name": "python3"
  },
  "language_info": {
   "codemirror_mode": {
    "name": "ipython",
    "version": 2
   },
   "file_extension": ".py",
   "mimetype": "text/x-python",
   "name": "python",
   "nbconvert_exporter": "python",
   "pygments_lexer": "ipython2",
   "version": "2.7.17"
  }
 },
 "nbformat": 4,
 "nbformat_minor": 2
}
