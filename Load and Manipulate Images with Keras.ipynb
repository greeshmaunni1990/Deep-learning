{
 "cells": [
  {
   "cell_type": "markdown",
   "metadata": {},
   "source": [
    "## Load Image with Keras"
   ]
  },
  {
   "cell_type": "code",
   "execution_count": 1,
   "metadata": {},
   "outputs": [],
   "source": [
    "from keras.preprocessing.image import load_img"
   ]
  },
  {
   "cell_type": "code",
   "execution_count": 5,
   "metadata": {},
   "outputs": [
    {
     "name": "stdout",
     "output_type": "stream",
     "text": [
      "JPEG\n",
      "RGB\n",
      "(5472, 3648)\n",
      "<class 'PIL.JpegImagePlugin.JpegImageFile'>\n"
     ]
    }
   ],
   "source": [
    "image = load_img('bondi_beach.jpg')\n",
    "print(image.format)\n",
    "print(image.mode)\n",
    "print(image.size)\n",
    "print(type(image))"
   ]
  },
  {
   "cell_type": "markdown",
   "metadata": {},
   "source": [
    "## Convert Image to Arrays and vice versa"
   ]
  },
  {
   "cell_type": "code",
   "execution_count": 11,
   "metadata": {},
   "outputs": [
    {
     "name": "stdout",
     "output_type": "stream",
     "text": [
      "float32\n",
      "(3648, 5472, 3)\n",
      "<class 'PIL.Image.Image'>\n"
     ]
    }
   ],
   "source": [
    "from keras.preprocessing.image import img_to_array\n",
    "from keras.preprocessing.image import array_to_img\n",
    "\n",
    "# Load the image\n",
    "image = load_img('bondi_beach.jpg')\n",
    "\n",
    "# convert image to array\n",
    "image_array = img_to_array(image)\n",
    "print(image_array.dtype)\n",
    "print(image_array.shape)\n",
    "\n",
    "# convert array ti image\n",
    "array_to_pil = array_to_img(image_array)\n",
    "print(type(array_to_pil))"
   ]
  },
  {
   "cell_type": "markdown",
   "metadata": {},
   "source": [
    "## Save image using Keras"
   ]
  },
  {
   "cell_type": "code",
   "execution_count": 19,
   "metadata": {},
   "outputs": [
    {
     "name": "stdout",
     "output_type": "stream",
     "text": [
      "(5472, 3648)\n",
      "RGB\n",
      "None\n"
     ]
    }
   ],
   "source": [
    "from keras.preprocessing.image import save_img\n",
    "\n",
    "# load image\n",
    "image = load_img('bondi_beach.jpg', color_mode='grayscale')\n",
    "\n",
    "# convert image to arrays\n",
    "image_array = img_to_array(image)\n",
    "\n",
    "# save the image with new filename\n",
    "save_img('bondi_beach_greyscale.jpg', image_array)\n",
    "\n",
    "# load the immmage to confirm if the image is saved correctly\n",
    "imaage_2 = load_img('bondi_beach_greyscale.jpg')\n",
    "print(imaage_2.size)\n",
    "print(imaage_2.mode)\n",
    "print(imaage_2.format)"
   ]
  },
  {
   "cell_type": "code",
   "execution_count": null,
   "metadata": {},
   "outputs": [],
   "source": []
  }
 ],
 "metadata": {
  "kernelspec": {
   "display_name": "Python 3",
   "language": "python",
   "name": "python3"
  },
  "language_info": {
   "codemirror_mode": {
    "name": "ipython",
    "version": 2
   },
   "file_extension": ".py",
   "mimetype": "text/x-python",
   "name": "python",
   "nbconvert_exporter": "python",
   "pygments_lexer": "ipython2",
   "version": "2.7.17"
  }
 },
 "nbformat": 4,
 "nbformat_minor": 2
}
