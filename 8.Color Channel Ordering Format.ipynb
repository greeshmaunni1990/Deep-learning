{
 "cells": [
  {
   "cell_type": "markdown",
   "metadata": {},
   "source": [
    "## Add channel to gray scale image"
   ]
  },
  {
   "cell_type": "code",
   "execution_count": 8,
   "metadata": {},
   "outputs": [],
   "source": [
    "from PIL import Image\n",
    "from numpy import asarray\n",
    "from numpy import expand_dims"
   ]
  },
  {
   "cell_type": "code",
   "execution_count": 19,
   "metadata": {},
   "outputs": [
    {
     "name": "stdout",
     "output_type": "stream",
     "text": [
      "(424, 640)\n",
      "(1, 424, 640)\n",
      "(424, 640, 1)\n"
     ]
    }
   ],
   "source": [
    "# load image using PIL\n",
    "image = Image.open('penguin_parade.jpg')\n",
    "\n",
    "# convert color image to grayscale\n",
    "image = image.convert(mode='L')\n",
    "\n",
    "# convert image to arrays\n",
    "image_array = asarray(image)\n",
    "\n",
    "print(image_array.shape)\n",
    "\n",
    "# add dimension to the array\n",
    "# to add channel first put axis  0 and to add channel last put axis = 1 \n",
    "image_array_first = expand_dims(image_array, axis=0)\n",
    "\n",
    "print(image_array_first.shape)\n",
    "\n",
    "image_array_last = expand_dims(image_array, axis=2)\n",
    "print(image_array_last.shape)"
   ]
  },
  {
   "cell_type": "markdown",
   "metadata": {},
   "source": [
    "## Change the order of the Image channel"
   ]
  },
  {
   "cell_type": "code",
   "execution_count": 45,
   "metadata": {},
   "outputs": [
    {
     "name": "stdout",
     "output_type": "stream",
     "text": [
      "(424, 640, 3)\n",
      "(3, 424, 640)\n",
      "(424, 640, 3)\n"
     ]
    }
   ],
   "source": [
    "from PIL import Image\n",
    "from numpy import asarray\n",
    "from numpy import moveaxis\n",
    "import matplotlib.pyplot as plt\n",
    "\n",
    "# load image\n",
    "image = Image.open('penguin_parade.jpg')\n",
    "\n",
    "# convert image to array\n",
    "image_array = asarray(image)\n",
    "print(image_array.shape)\n",
    "\n",
    "# Now the channel is a last.\n",
    "# To move the channel to the first\n",
    "image_array = moveaxis(image_array, 2, 0)\n",
    "print(image_array.shape)\n",
    "\n",
    "# Now the channel is at first\n",
    "# To move the channel to the last\n",
    "image_array = moveaxis(image_array, 0, 2)\n",
    "print(image_array.shape)"
   ]
  }
 ],
 "metadata": {
  "kernelspec": {
   "display_name": "Python 3",
   "language": "python",
   "name": "python3"
  },
  "language_info": {
   "codemirror_mode": {
    "name": "ipython",
    "version": 2
   },
   "file_extension": ".py",
   "mimetype": "text/x-python",
   "name": "python",
   "nbconvert_exporter": "python",
   "pygments_lexer": "ipython2",
   "version": "2.7.17"
  }
 },
 "nbformat": 4,
 "nbformat_minor": 2
}
